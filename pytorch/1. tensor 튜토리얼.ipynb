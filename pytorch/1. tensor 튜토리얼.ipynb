{
 "cells": [
  {
   "cell_type": "code",
   "execution_count": 3,
   "metadata": {},
   "outputs": [],
   "source": [
    "import torch\n",
    "import numpy as np"
   ]
  },
  {
   "cell_type": "markdown",
   "metadata": {},
   "source": [
    "### 텐서(tensor) 초기화\n",
    "\n",
    "텐서는 여러가지 방법으로 초기화할 수 있습니다. 다음 예를 살펴보세요:\n",
    "\n",
    "데이터로부터 직접(directly) 생성하기\n",
    "\n",
    "데이터로부터 직접 텐서를 생성할 수 있습니다. 데이터의 자료형(data type)은 자동으로 유추합니다."
   ]
  },
  {
   "cell_type": "code",
   "execution_count": 12,
   "metadata": {},
   "outputs": [
    {
     "name": "stdout",
     "output_type": "stream",
     "text": [
      "tensor 형태\n",
      "tensor([[1, 2],\n",
      "        [3, 4]])\n",
      "array 형태\n",
      "[[1 2]\n",
      " [3 4]]\n"
     ]
    }
   ],
   "source": [
    "data = [[1,2] , [3,4]]\n",
    "\n",
    "x_data = torch.tensor(data)\n",
    "\n",
    "print('tensor 형태')\n",
    "print(x_data)\n",
    "\n",
    "print('array 형태')\n",
    "print(np.array(data))"
   ]
  },
  {
   "cell_type": "markdown",
   "metadata": {},
   "source": [
    "### NumPy 배열로부터 생성하기\n",
    "\n",
    "\n",
    "텐서는 NumPy 배열로 생성할 수 있습니다. (그 반대도 가능합니다 - NumPy 변환(Bridge) 참고)"
   ]
  },
  {
   "cell_type": "code",
   "execution_count": 17,
   "metadata": {},
   "outputs": [],
   "source": [
    "np_array = np.array(data)\n",
    "\n",
    "x_np = torch.from_numpy(np_array) # array 를 이용해 tensor 형태로 변경하는 코드"
   ]
  },
  {
   "cell_type": "markdown",
   "metadata": {},
   "source": [
    "### 다른 텐서로부터 생성하기:\n",
    "\n",
    "명시적으로 재정의(override)하지 않는다면, 인자로 주어진 텐서의 속성(모양(shape), 자료형(datatype))을 유지합니다."
   ]
  },
  {
   "cell_type": "code",
   "execution_count": 22,
   "metadata": {},
   "outputs": [
    {
     "name": "stdout",
     "output_type": "stream",
     "text": [
      "Ones Tensor: \n",
      " tensor([[1, 1],\n",
      "        [1, 1]]) \n",
      "\n",
      "Random Tensor: \n",
      " tensor([[-0.1805, -0.1154],\n",
      "        [-0.1568, -0.3852]]) \n",
      "\n"
     ]
    }
   ],
   "source": [
    "x_ones = torch.ones_like(x_data)\n",
    "print(f\"Ones Tensor: \\n {x_ones} \\n\")\n",
    "\n",
    "x_rand = torch.randn_like(x_data, dtype = torch.float)\n",
    "print(f\"Random Tensor: \\n {x_rand} \\n\")"
   ]
  },
  {
   "cell_type": "markdown",
   "metadata": {},
   "source": [
    "### 작위(random) 또는 상수(constant) 값을 사용하기:\n",
    "\n",
    "shape 은 텐서의 차원(dimension)을 나타내는 튜플(tuple)로, 아래 함수들에서는 출력 텐서의 차원을 결정합니다.\n"
   ]
  },
  {
   "cell_type": "code",
   "execution_count": 43,
   "metadata": {},
   "outputs": [
    {
     "name": "stdout",
     "output_type": "stream",
     "text": [
      "Random Tensor: \n",
      " tensor([[0.5433, 0.5421, 0.4345],\n",
      "        [0.7409, 0.5784, 0.1967]]) \n",
      "\n",
      "Ones Tensor: \n",
      " tensor([[1., 1., 1.],\n",
      "        [1., 1., 1.]]) \n",
      "\n",
      "Zeros Tensor: \n",
      " tensor([[0., 0., 0.],\n",
      "        [0., 0., 0.]])\n"
     ]
    }
   ],
   "source": [
    "shape = (2,3,)\n",
    "\n",
    "rand_tensor = torch.rand(size = shape)\n",
    "ones_tensor = torch.ones(size = shape)\n",
    "zeros_tensor = torch.zeros(size = shape)\n",
    "\n",
    "print(f\"Random Tensor: \\n {rand_tensor} \\n\")\n",
    "print(f\"Ones Tensor: \\n {ones_tensor} \\n\")\n",
    "print(f\"Zeros Tensor: \\n {zeros_tensor}\")"
   ]
  },
  {
   "cell_type": "markdown",
   "metadata": {},
   "source": [
    "### 텐서의 속성(Attribute)\n",
    "\n",
    "텐서의 속성은 텐서의 모양(shape), 자료형(datatype) 및 어느 장치에 저장되는지를 나타냅니다."
   ]
  },
  {
   "cell_type": "code",
   "execution_count": 44,
   "metadata": {},
   "outputs": [
    {
     "name": "stdout",
     "output_type": "stream",
     "text": [
      "Shape of tensor: torch.Size([3, 4])\n",
      "Datatype of tensor: torch.float32\n",
      "Device tensor is stored on: cpu\n"
     ]
    }
   ],
   "source": [
    "tensor = torch.rand(3,4)\n",
    "\n",
    "print(f\"Shape of tensor: {tensor.shape}\")\n",
    "print(f\"Datatype of tensor: {tensor.dtype}\")\n",
    "print(f\"Device tensor is stored on: {tensor.device}\")"
   ]
  },
  {
   "cell_type": "markdown",
   "metadata": {},
   "source": [
    "### 텐서 연산(Operation)\n",
    "\n",
    " 전치(transposing), 인덱싱(indexing), 슬라이싱(slicing), 수학 계산, 선형 대수, 임의 샘플링(random sampling) 등, 100가지 이상의 텐서 연산들을 여기 에서 확인할 수 있습니다.\n",
    "\n",
    " 각 연산들은 (일반적으로 CPU보다 빠른) GPU에서 실행할 수 있습니다. Colab을 사용한다면, Edit > Notebook Settings 에서 GPU를 할당할 수 있습니다.\n",
    "\n",
    " 기본적으로 텐서는 CPU에 생성됩니다. .to 메소드를 사용하면 (GPU의 가용성(availability)을 확인한 뒤) GPU로 텐서를 명시적으로 이동할 수 있습니다. 장치들 간에 큰 텐서들을 복사하는 것은 시간과 메모리 측면에서 비용이 많이든다는 것을 기억하세요!"
   ]
  },
  {
   "cell_type": "code",
   "execution_count": 48,
   "metadata": {},
   "outputs": [
    {
     "name": "stdout",
     "output_type": "stream",
     "text": [
      "False\n"
     ]
    }
   ],
   "source": [
    "# GPU가 존재하면 텐서를 이동합니다\n",
    "if torch.cuda.is_available():\n",
    "    tensor = tensor.to(\"cuda\")\n",
    "    \n",
    "print(torch.cuda.is_available())"
   ]
  },
  {
   "cell_type": "markdown",
   "metadata": {},
   "source": [
    "목록에서 몇몇 연산들을 시도해보세요. NumPy API에 익숙하다면 Tensor API를 사용하는 것은 식은 죽 먹기라는 것을 알게 되실 겁니다."
   ]
  },
  {
   "cell_type": "code",
   "execution_count": 57,
   "metadata": {},
   "outputs": [
    {
     "name": "stdout",
     "output_type": "stream",
     "text": [
      "Frist row : tensor([0.9718, 0.0123, 0.8781, 0.6689])\n",
      "First column : tensor([0.9718, 0.3787, 0.1505, 0.0549])\n",
      "Last column : tensor([0.6689, 0.7609, 0.9591, 0.3614])\n",
      "tensor([[0.9718, 0.0000, 0.8781, 0.6689],\n",
      "        [0.3787, 0.0000, 0.9321, 0.7609],\n",
      "        [0.1505, 0.0000, 0.8005, 0.9591],\n",
      "        [0.0549, 0.0000, 0.7336, 0.3614]])\n"
     ]
    }
   ],
   "source": [
    "tensor = torch.rand(4,4)\n",
    "\n",
    "print(f'Frist row : {tensor[0,:]}')\n",
    "print(f'First column : {tensor[:,0]}')\n",
    "print(f'Last column : {tensor[:,-1]}')\n",
    "tensor[:,1] = 0 # 2번째 컬럼의 값을 모두 0으로 변경\n",
    "\n",
    "print(tensor)"
   ]
  },
  {
   "cell_type": "markdown",
   "metadata": {},
   "source": [
    "텐서 합치기 torch.cat 을 사용하여 주어진 차원에 따라 일련의 텐서를 연결할 수 있습니다. torch.cat 과 미묘하게 다른 또 다른 텐서 결합 연산인 torch.stack 도 참고해보세요."
   ]
  },
  {
   "cell_type": "code",
   "execution_count": 78,
   "metadata": {},
   "outputs": [
    {
     "name": "stdout",
     "output_type": "stream",
     "text": [
      "dim = 0\n",
      "tensor([[0.9718, 0.0000, 0.8781, 0.6689],\n",
      "        [0.3787, 0.0000, 0.9321, 0.7609],\n",
      "        [0.1505, 0.0000, 0.8005, 0.9591],\n",
      "        [0.0549, 0.0000, 0.7336, 0.3614],\n",
      "        [0.9718, 0.0000, 0.8781, 0.6689],\n",
      "        [0.3787, 0.0000, 0.9321, 0.7609],\n",
      "        [0.1505, 0.0000, 0.8005, 0.9591],\n",
      "        [0.0549, 0.0000, 0.7336, 0.3614],\n",
      "        [0.9718, 0.0000, 0.8781, 0.6689],\n",
      "        [0.3787, 0.0000, 0.9321, 0.7609],\n",
      "        [0.1505, 0.0000, 0.8005, 0.9591],\n",
      "        [0.0549, 0.0000, 0.7336, 0.3614]])\n",
      "--------------------------------------------------------------------------------\n",
      "dim = 1\n",
      "tensor([[0.9718, 0.0000, 0.8781, 0.6689, 0.9718, 0.0000, 0.8781, 0.6689, 0.9718,\n",
      "         0.0000, 0.8781, 0.6689],\n",
      "        [0.3787, 0.0000, 0.9321, 0.7609, 0.3787, 0.0000, 0.9321, 0.7609, 0.3787,\n",
      "         0.0000, 0.9321, 0.7609],\n",
      "        [0.1505, 0.0000, 0.8005, 0.9591, 0.1505, 0.0000, 0.8005, 0.9591, 0.1505,\n",
      "         0.0000, 0.8005, 0.9591],\n",
      "        [0.0549, 0.0000, 0.7336, 0.3614, 0.0549, 0.0000, 0.7336, 0.3614, 0.0549,\n",
      "         0.0000, 0.7336, 0.3614]])\n"
     ]
    }
   ],
   "source": [
    "print('dim = 0')\n",
    "print(torch.cat([tensor, tensor , tensor], dim = 0 ))\n",
    "print('--' * 40)\n",
    "print('dim = 1')\n",
    "print(torch.cat([tensor, tensor , tensor], dim = 1 ))\n",
    "\n",
    "# cat 할 때 dim = 0 하면 열 기준 병합 , dim = 1 하면 행 기준 병합이구나"
   ]
  },
  {
   "cell_type": "markdown",
   "metadata": {},
   "source": [
    " * torch stack 과 cat 의 차이점을 알아보자"
   ]
  },
  {
   "cell_type": "code",
   "execution_count": 105,
   "metadata": {},
   "outputs": [],
   "source": [
    "x = torch.tensor([1,2])\n",
    "y = torch.tensor([3,4])\n",
    "\n",
    "cat_result = torch.cat([x,y], dim = 0 ) # 열 기준 병합\n",
    "stack_result = torch.stack([x,y], dim = 0) # 열 기준 stack"
   ]
  },
  {
   "cell_type": "code",
   "execution_count": 106,
   "metadata": {},
   "outputs": [
    {
     "name": "stdout",
     "output_type": "stream",
     "text": [
      "tensor([1, 2, 3, 4])\n",
      "cat result shape : torch.Size([4])\n",
      "tensor([[1, 2],\n",
      "        [3, 4]])\n",
      "stack result shape : torch.Size([2, 2])\n"
     ]
    }
   ],
   "source": [
    "print(cat_result)\n",
    "print(f'cat result shape : {cat_result.shape}')\n",
    "print(stack_result)\n",
    "print(f'stack result shape : {stack_result.shape}')"
   ]
  },
  {
   "cell_type": "markdown",
   "metadata": {},
   "source": [
    "tensor 는 같은 차원 안에 두 tensor 를 병합하는 반면 , Stack 같은 경우는 새로운 차원에 텐서들을 넣어 병합하게 되며 stack 의 경우는 stack 되기 전 차원들보다 1차원 높은 값을 return 한다."
   ]
  },
  {
   "cell_type": "code",
   "execution_count": 116,
   "metadata": {},
   "outputs": [
    {
     "name": "stdout",
     "output_type": "stream",
     "text": [
      "tensor([[1, 2],\n",
      "        [3, 4]])\n"
     ]
    }
   ],
   "source": [
    "tensor_2d = torch.tensor([[1,2],[3,4]]) # 2차원의 tensor 를 가져와보자 \n",
    "print(tensor_2d)"
   ]
  },
  {
   "cell_type": "code",
   "execution_count": 119,
   "metadata": {},
   "outputs": [],
   "source": [
    "cat_result_2d = torch.cat([tensor_2d, tensor_2d], dim = 0)\n",
    "stack_result_2d = torch.stack([tensor_2d, tensor_2d], dim = 0)"
   ]
  },
  {
   "cell_type": "code",
   "execution_count": 120,
   "metadata": {},
   "outputs": [
    {
     "name": "stdout",
     "output_type": "stream",
     "text": [
      "tensor([[1, 2],\n",
      "        [3, 4],\n",
      "        [1, 2],\n",
      "        [3, 4]])\n",
      "cat result shape : torch.Size([4, 2])\n",
      "tensor([[[1, 2],\n",
      "         [3, 4]],\n",
      "\n",
      "        [[1, 2],\n",
      "         [3, 4]]])\n",
      "stack result shape : torch.Size([2, 2, 2])\n"
     ]
    }
   ],
   "source": [
    "print(cat_result_2d)\n",
    "print(f'cat result shape : {cat_result_2d.shape}')\n",
    "print(stack_result_2d)\n",
    "print(f'stack result shape : {stack_result_2d.shape}')"
   ]
  },
  {
   "cell_type": "markdown",
   "metadata": {},
   "source": [
    "### 산술 연산(Arithmetic operations)"
   ]
  },
  {
   "cell_type": "code",
   "execution_count": 129,
   "metadata": {},
   "outputs": [
    {
     "name": "stdout",
     "output_type": "stream",
     "text": [
      "matmul 을 하기 전 x3의 모습\n",
      "tensor([[0.4987, 0.5366, 0.4944, 0.7133],\n",
      "        [0.2202, 0.6287, 0.5205, 0.4765],\n",
      "        [0.9957, 0.2708, 0.8884, 0.1641],\n",
      "        [0.7233, 0.2967, 0.7309, 0.7688]])\n",
      "matmul 을 한 후 x3의 모습\n",
      "tensor([[4., 4., 4., 4.],\n",
      "        [4., 4., 4., 4.],\n",
      "        [4., 4., 4., 4.],\n",
      "        [4., 4., 4., 4.]])\n"
     ]
    }
   ],
   "source": [
    "tensor = torch.ones([4,4])\n",
    "\n",
    "x1 = tensor@ tensor.T\n",
    "x2 = tensor.matmul(tensor.T) # 행렵곱 (matrix multiplication)\n",
    "\n",
    "x3 = torch.rand_like(x2) # x2 와 같은 모양의 난수 생성\n",
    "\n",
    "print('matmul 을 하기 전 x3의 모습')\n",
    "print(x3)\n",
    "torch.matmul(tensor, tensor.T, out = x3)\n",
    "print('matmul 을 한 후 x3의 모습')\n",
    "print(x3)\n"
   ]
  },
  {
   "cell_type": "markdown",
   "metadata": {},
   "source": [
    "```\n",
    "out 매개변수는 PyTorch의 텐서 연산 중 하나인 torch.matmul 또는 @ 연산을 수행할 때, 결과 텐서를 저장할 위치를 지정하는 데 사용됩니다. out을 지정하면 연산 결과가 새로운 텐서로 저장되고, 이를 기존의 y3 텐서에 저장하게 됩니다. 이것은 메모리를 효율적으로 활용하고 연산 결과를 원하는 위치에 저장할 때 유용합니다.\n",
    "\n",
    "여기서 주목해야 할 중요한 점은 out 텐서의 모양과 데이터 타입이 연산 결과와 호환되어야 한다는 것입니다. out 텐서는 연산 결과를 저장할 메모리 공간을 제공하지만, 연산 결과와 out의 모양이나 데이터 타입이 호환되지 않으면 오류가 발생할 수 있습니다.\n",
    "\n",
    "따라서 주어진 코드에서 torch.matmul(tensor, tensor.T, out=y3)는 tensor와 tensor.T의 행렬 곱을 계산하고 그 결과를 y3에 저장합니다. y3는 미리 생성된 텐서이며, torch.rand_like(y1) 함수를 사용하여 동일한 모양과 데이터 타입을 가진 임의의 값으로 초기화된 텐서입니다. 그러면 y3는 행렬 곱의 결과를 저장하는 데 사용되며, 이 연산은 y3의 내용을 덮어씁니다.\n",
    "```"
   ]
  },
  {
   "cell_type": "code",
   "execution_count": 130,
   "metadata": {},
   "outputs": [
    {
     "data": {
      "text/plain": [
       "tensor([[1., 1., 1., 1.],\n",
       "        [1., 1., 1., 1.],\n",
       "        [1., 1., 1., 1.],\n",
       "        [1., 1., 1., 1.]])"
      ]
     },
     "execution_count": 130,
     "metadata": {},
     "output_type": "execute_result"
    }
   ],
   "source": [
    "# 요소별 곱(element-wise product)을 계산합니다. z1, z2, z3는 모두 같은 값을 갖습니다.\n",
    "z1 = tensor * tensor\n",
    "z2 = tensor.mul(tensor)\n",
    "\n",
    "z3 = torch.rand_like(tensor)\n",
    "torch.mul(tensor, tensor, out=z3)"
   ]
  },
  {
   "cell_type": "markdown",
   "metadata": {},
   "source": [
    "단일-요소(single-element) 텐서 텐서의 모든 값을 하나로 집계(aggregate)하여 요소가 하나인 텐서의 경우, item() 을 사용하여 Python 숫자 값으로 변환할 수 있습니다:"
   ]
  },
  {
   "cell_type": "code",
   "execution_count": 144,
   "metadata": {},
   "outputs": [
    {
     "name": "stdout",
     "output_type": "stream",
     "text": [
      "16.0 <class 'float'>\n"
     ]
    }
   ],
   "source": [
    "agg = tensor.sum()\n",
    "agg_item = agg.item()\n",
    "print(agg_item, type(agg_item)) # np.squeeze 같은 거구나"
   ]
  },
  {
   "cell_type": "markdown",
   "metadata": {},
   "source": [
    "### NumPy 변환(Bridge)\n",
    "\n",
    "CPU 상의 텐서와 NumPy 배열은 메모리 공간을 공유하기 때문에, 하나를 변경하면 다른 하나도 변경됩니다."
   ]
  },
  {
   "cell_type": "code",
   "execution_count": 148,
   "metadata": {},
   "outputs": [
    {
     "name": "stdout",
     "output_type": "stream",
     "text": [
      "t : tensor([1., 1., 1., 1., 1.])\n",
      "n : [1. 1. 1. 1. 1.]\n"
     ]
    }
   ],
   "source": [
    "t = torch.ones(5)\n",
    "print(f't : {t}')\n",
    "n = t.numpy()\n",
    "print(f'n : {n}')"
   ]
  },
  {
   "cell_type": "markdown",
   "metadata": {},
   "source": [
    "텐서의 변경 사항이 NumPy 배열에 반영됩니다."
   ]
  },
  {
   "cell_type": "code",
   "execution_count": 149,
   "metadata": {},
   "outputs": [
    {
     "name": "stdout",
     "output_type": "stream",
     "text": [
      "t : tensor([2., 2., 2., 2., 2.])\n",
      "n : [2. 2. 2. 2. 2.]\n"
     ]
    }
   ],
   "source": [
    "t.add_(1)\n",
    "print(f't : {t}')\n",
    "print(f'n : {n}')"
   ]
  },
  {
   "cell_type": "markdown",
   "metadata": {},
   "source": [
    "### NumPy 배열을 텐서로 변환하기\n"
   ]
  },
  {
   "cell_type": "code",
   "execution_count": 150,
   "metadata": {},
   "outputs": [],
   "source": [
    "n = np.ones(5)\n",
    "t = torch.from_numpy(n)"
   ]
  },
  {
   "cell_type": "markdown",
   "metadata": {},
   "source": [
    "NumPy 배열의 변경 사항이 텐서에 반영됩니다."
   ]
  },
  {
   "cell_type": "code",
   "execution_count": 153,
   "metadata": {},
   "outputs": [
    {
     "name": "stdout",
     "output_type": "stream",
     "text": [
      "t: tensor([2., 2., 2., 2., 2.], dtype=torch.float64)\n",
      "n: [2. 2. 2. 2. 2.]\n"
     ]
    }
   ],
   "source": [
    "np.add(n, 1, out = n)\n",
    "print(f\"t: {t}\")\n",
    "print(f\"n: {n}\")"
   ]
  }
 ],
 "metadata": {
  "kernelspec": {
   "display_name": "base",
   "language": "python",
   "name": "python3"
  },
  "language_info": {
   "codemirror_mode": {
    "name": "ipython",
    "version": 3
   },
   "file_extension": ".py",
   "mimetype": "text/x-python",
   "name": "python",
   "nbconvert_exporter": "python",
   "pygments_lexer": "ipython3",
   "version": "3.9.13"
  },
  "orig_nbformat": 4
 },
 "nbformat": 4,
 "nbformat_minor": 2
}
