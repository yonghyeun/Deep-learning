{
 "cells": [
  {
   "cell_type": "code",
   "execution_count": 1165,
   "metadata": {},
   "outputs": [],
   "source": [
    "import pandas as pd\n",
    "import numpy as np\n",
    "\n",
    "import matplotlib.pyplot as plt\n",
    "import seaborn as sns\n",
    "from imblearn.over_sampling import SMOTE\n",
    "from sklearn.metrics import make_scorer\n",
    "from sklearn.model_selection import train_test_split\n",
    "\n",
    "import tensorflow as tf\n",
    "from tensorflow.keras import Sequential\n",
    "from tensorflow.keras.layers import Dropout\n",
    "from tensorflow.keras.layers import Flatten\n",
    "from tensorflow.keras.layers import Dense\n",
    "from tensorflow.keras.losses import CategoricalCrossentropy\n",
    "from tensorflow.keras.callbacks import EarlyStopping\n",
    "from tensorflow.keras import regularizers\n",
    "from tensorflow.keras.initializers import GlorotUniform"
   ]
  },
  {
   "cell_type": "code",
   "execution_count": 1166,
   "metadata": {},
   "outputs": [],
   "source": [
    "train = pd.read_csv('C:/Users/whileduck/Desktop/캐글/train.csv')\n",
    "test = pd.read_csv('C:/Users/whileduck/Desktop/캐글/test.csv')"
   ]
  },
  {
   "cell_type": "code",
   "execution_count": 1167,
   "metadata": {},
   "outputs": [],
   "source": [
    "df = train.copy()"
   ]
  },
  {
   "cell_type": "code",
   "execution_count": 1168,
   "metadata": {},
   "outputs": [
    {
     "name": "stdout",
     "output_type": "stream",
     "text": [
      "데이터 프레임의 형태는 : \n",
      " (707, 66)\n",
      "데이터의 독립 변수 명은 : \n",
      " Index(['id', 'sudden_fever', 'headache', 'mouth_bleed', 'nose_bleed',\n",
      "       'muscle_pain', 'joint_pain', 'vomiting', 'rash', 'diarrhea',\n",
      "       'hypotension', 'pleural_effusion', 'ascites', 'gastro_bleeding',\n",
      "       'swelling', 'nausea', 'chills', 'myalgia', 'digestion_trouble',\n",
      "       'fatigue', 'skin_lesions', 'stomach_pain', 'orbital_pain', 'neck_pain',\n",
      "       'weakness', 'back_pain', 'weight_loss', 'gum_bleed', 'jaundice', 'coma',\n",
      "       'diziness', 'inflammation', 'red_eyes', 'loss_of_appetite',\n",
      "       'urination_loss', 'slow_heart_rate', 'abdominal_pain',\n",
      "       'light_sensitivity', 'yellow_skin', 'yellow_eyes', 'facial_distortion',\n",
      "       'microcephaly', 'rigor', 'bitter_tongue', 'convulsion', 'anemia',\n",
      "       'cocacola_urine', 'hypoglycemia', 'prostraction', 'hyperpyrexia',\n",
      "       'stiff_neck', 'irritability', 'confusion', 'tremor', 'paralysis',\n",
      "       'lymph_swells', 'breathing_restriction', 'toe_inflammation',\n",
      "       'finger_inflammation', 'lips_irritation', 'itchiness', 'ulcers',\n",
      "       'toenail_loss', 'speech_problem', 'bullseye_rash'],\n",
      "      dtype='object')\n",
      "데이터의 타겟값의 종류는 \n",
      " ['Lyme_disease' 'Tungiasis' 'Zika' 'Rift_Valley_fever' 'West_Nile_fever'\n",
      " 'Malaria' 'Chikungunya' 'Plague' 'Dengue' 'Yellow_Fever'\n",
      " 'Japanese_encephalitis']\n"
     ]
    }
   ],
   "source": [
    "print('데이터 프레임의 형태는 : \\n', df.shape)\n",
    "\n",
    "print('데이터의 독립 변수 명은 : \\n', df.columns[:-1])\n",
    "\n",
    "print('데이터의 타겟값의 종류는 \\n', df['prognosis'].unique())"
   ]
  },
  {
   "attachments": {},
   "cell_type": "markdown",
   "metadata": {},
   "source": [
    "# 데이터 설명\n",
    "\n",
    "##### Goal : Ventor Borne Disaeae 의 symptom을 보고 질병 명을 예측 \n",
    "##### object : Vector Bornn Disease 란 혈액을 통해 모기, 진드기, 벼룩과 같은 피를 빨아먹는 곤충이 매개체가 되어 전염되는 질병\n",
    " \n",
    "##### 평가 지표 : MAP@K metrics (MAP@K = (1 / |Q|) * Σ(q=1에서 |Q|) Σ(k=1에서 K) (P(k) * rel(k)) / min(|R| , 케이))\n",
    "\n",
    "    *  각 실제 레이블에 대한 예측 값들(예측 확률)을 가장 실제값과 가까운 순으로 나열 \n",
    "    *  1 개부터 K 개 까지의 Precision 계산 \n",
    "    * 실제값이 Malaria고, 예측 값을 K 개 까지 나열한 결과가 Zika, Dengue, Plague 라면 \n",
    "    * 1 일 때의 precision = 실제값 / 예측값이니 , 1일 때는 precision 이 1, 2일 때는 precision 이 0.5, 3일 때는 0.33 .. \n",
    "    * 이런식으로 각 i 번째 레이블에 대한 AP@K(average Precision) 계산\n",
    "    * 이후 각 인덱스에 대한 AP 들의 평균인 AP@K 를 계산\n",
    "\n",
    "    * 그러니 현 모델에선 소프트 맥스로 다중 분류된 예측 값들 중 가장 첫 번째로 실제 레이블을 맞췄을 경우의 AP@K , MAP@K 가 높을 것이다.\n",
    "\n",
    "\n",
    "\n",
    "\n"
   ]
  },
  {
   "attachments": {},
   "cell_type": "markdown",
   "metadata": {},
   "source": [
    "# 데이터 탐색"
   ]
  },
  {
   "cell_type": "code",
   "execution_count": 1169,
   "metadata": {},
   "outputs": [
    {
     "name": "stdout",
     "output_type": "stream",
     "text": [
      "<class 'pandas.core.frame.DataFrame'>\n",
      "RangeIndex: 707 entries, 0 to 706\n",
      "Data columns (total 66 columns):\n",
      " #   Column                 Non-Null Count  Dtype  \n",
      "---  ------                 --------------  -----  \n",
      " 0   id                     707 non-null    int64  \n",
      " 1   sudden_fever           707 non-null    float64\n",
      " 2   headache               707 non-null    float64\n",
      " 3   mouth_bleed            707 non-null    float64\n",
      " 4   nose_bleed             707 non-null    float64\n",
      " 5   muscle_pain            707 non-null    float64\n",
      " 6   joint_pain             707 non-null    float64\n",
      " 7   vomiting               707 non-null    float64\n",
      " 8   rash                   707 non-null    float64\n",
      " 9   diarrhea               707 non-null    float64\n",
      " 10  hypotension            707 non-null    float64\n",
      " 11  pleural_effusion       707 non-null    float64\n",
      " 12  ascites                707 non-null    float64\n",
      " 13  gastro_bleeding        707 non-null    float64\n",
      " 14  swelling               707 non-null    float64\n",
      " 15  nausea                 707 non-null    float64\n",
      " 16  chills                 707 non-null    float64\n",
      " 17  myalgia                707 non-null    float64\n",
      " 18  digestion_trouble      707 non-null    float64\n",
      " 19  fatigue                707 non-null    float64\n",
      " 20  skin_lesions           707 non-null    float64\n",
      " 21  stomach_pain           707 non-null    float64\n",
      " 22  orbital_pain           707 non-null    float64\n",
      " 23  neck_pain              707 non-null    float64\n",
      " 24  weakness               707 non-null    float64\n",
      " 25  back_pain              707 non-null    float64\n",
      " 26  weight_loss            707 non-null    float64\n",
      " 27  gum_bleed              707 non-null    float64\n",
      " 28  jaundice               707 non-null    float64\n",
      " 29  coma                   707 non-null    float64\n",
      " 30  diziness               707 non-null    float64\n",
      " 31  inflammation           707 non-null    float64\n",
      " 32  red_eyes               707 non-null    float64\n",
      " 33  loss_of_appetite       707 non-null    float64\n",
      " 34  urination_loss         707 non-null    float64\n",
      " 35  slow_heart_rate        707 non-null    float64\n",
      " 36  abdominal_pain         707 non-null    float64\n",
      " 37  light_sensitivity      707 non-null    float64\n",
      " 38  yellow_skin            707 non-null    float64\n",
      " 39  yellow_eyes            707 non-null    float64\n",
      " 40  facial_distortion      707 non-null    float64\n",
      " 41  microcephaly           707 non-null    float64\n",
      " 42  rigor                  707 non-null    float64\n",
      " 43  bitter_tongue          707 non-null    float64\n",
      " 44  convulsion             707 non-null    float64\n",
      " 45  anemia                 707 non-null    float64\n",
      " 46  cocacola_urine         707 non-null    float64\n",
      " 47  hypoglycemia           707 non-null    float64\n",
      " 48  prostraction           707 non-null    float64\n",
      " 49  hyperpyrexia           707 non-null    float64\n",
      " 50  stiff_neck             707 non-null    float64\n",
      " 51  irritability           707 non-null    float64\n",
      " 52  confusion              707 non-null    float64\n",
      " 53  tremor                 707 non-null    float64\n",
      " 54  paralysis              707 non-null    float64\n",
      " 55  lymph_swells           707 non-null    float64\n",
      " 56  breathing_restriction  707 non-null    float64\n",
      " 57  toe_inflammation       707 non-null    float64\n",
      " 58  finger_inflammation    707 non-null    float64\n",
      " 59  lips_irritation        707 non-null    float64\n",
      " 60  itchiness              707 non-null    float64\n",
      " 61  ulcers                 707 non-null    float64\n",
      " 62  toenail_loss           707 non-null    float64\n",
      " 63  speech_problem         707 non-null    float64\n",
      " 64  bullseye_rash          707 non-null    float64\n",
      " 65  prognosis              707 non-null    object \n",
      "dtypes: float64(64), int64(1), object(1)\n",
      "memory usage: 364.7+ KB\n"
     ]
    }
   ],
   "source": [
    "df.info()"
   ]
  },
  {
   "attachments": {},
   "cell_type": "markdown",
   "metadata": {},
   "source": [
    "* Target 값의 분포"
   ]
  },
  {
   "cell_type": "code",
   "execution_count": 1170,
   "metadata": {},
   "outputs": [
    {
     "data": {
      "text/plain": [
       "(-0.5, 10.5)"
      ]
     },
     "execution_count": 1170,
     "metadata": {},
     "output_type": "execute_result"
    },
    {
     "data": {
      "image/png": "[encoded data removed]",
      "text/plain": [
       "<Figure size 640x480 with 1 Axes>"
      ]
     },
     "metadata": {},
     "output_type": "display_data"
    }
   ],
   "source": [
    "prognosis_idx = df['prognosis'].value_counts().index.tolist()[::-1]\n",
    "prognosis_val = df['prognosis'].value_counts().values.tolist()\n",
    "\n",
    "min_count = min(prognosis_val)\n",
    "max_count = max(prognosis_val)\n",
    "\n",
    "sns.countplot(y = df['prognosis'], order = prognosis_idx)\n",
    "\n",
    "plt.axvline(max_count,\n",
    "            c = 'r', ls = '--',\n",
    "            label = f'MAX count : {max_count}')\n",
    "plt.axvline(min_count,\n",
    "            c = 'b', ls = '--',\n",
    "            label = f'MIN count {min_count}')\n",
    "\n",
    "plt.fill_betweenx([-0.5, len(prognosis_idx)], x1=min_count, x2=max_count, color='grey', alpha=0.5,\n",
    "                    label = 'imbalance area')\n",
    "\n",
    "plt.title('Target imbalance', fontdict = {'size':15})\n",
    "plt.legend(loc = 'upper right',\n",
    "            bbox_to_anchor = (1,1.2),\n",
    "            ncol = 2,\n",
    "            frameon = False)\n",
    "\n",
    "plt.ylim([-0.5,10.5])"
   ]
  },
  {
   "attachments": {},
   "cell_type": "markdown",
   "metadata": {},
   "source": [
    "* 종속 변수 별 클래스 불균형이 심하다.\n",
    "* 이는 클래스의 빈도가 적은 경우의 가중치가 적절하게 업데이트 되지 않을 수 있으니 SMOTE 를 이용해서 오버샘플링 해주자\n",
    "\n",
    "### SMOTE\n",
    "\n",
    "    SMOTE는 Synthetic Minority Over-sampling Technique의 약자입니다. 기계 학습에서 클래스 불균형을 해결하는 데 사용되는 인기 있는 기술입니다. 클래스 불균형이 있는 데이터 세트에서 소수 클래스는 다수 클래스에 비해 샘플이 적기 때문에 소수 클래스에서 기계 학습 알고리즘의 성능이 저하될 수 있습니다.\n",
    "\n",
    "\n",
    "    SMOTE는 소수 클래스 샘플 사이를 보간하여 소수 클래스의 합성 샘플을 생성하는 오버샘플링 기술입니다.\n",
    "    이는 임의의 소수 클래스 샘플을 선택하고 k개의 가장 가까운 이웃을 찾아 수행됩니다.\n",
    "    그런 다음 이웃을 무작위로 선택하고 선택한 소수 샘플과 선택한 이웃 사이를 보간하여 합성 샘플을 생성합니다.\n",
    "    이 프로세스는 원하는 수준의 오버샘플링이 달성될 때까지 계속됩니다.\n",
    "\n",
    "\n",
    "    결과 합성 샘플은 클래스 분포의 균형을 맞추고 기계 학습 알고리즘의 성능을 향상시키는 데 도움이 됩니다.\n",
    "    SMOTE는 사기 감지, 의료 진단 및 텍스트 분류와 같이 클래스 불균형이 일반적인 애플리케이션에 널리 사용됩니다.\n",
    "\n"
   ]
  },
  {
   "attachments": {},
   "cell_type": "markdown",
   "metadata": {},
   "source": [
    "* 문자형 변수 라벨링"
   ]
  },
  {
   "cell_type": "code",
   "execution_count": 1171,
   "metadata": {},
   "outputs": [
    {
     "name": "stdout",
     "output_type": "stream",
     "text": [
      "{0: 'Lyme_disease', 1: 'Tungiasis', 2: 'Zika', 3: 'Rift_Valley_fever', 4: 'West_Nile_fever', 5: 'Malaria', 6: 'Chikungunya', 7: 'Plague', 8: 'Dengue', 9: 'Yellow_Fever', 10: 'Japanese_encephalitis'}\n"
     ]
    }
   ],
   "source": [
    "reverse_labels= {}\n",
    "uniques = df['prognosis'].unique()\n",
    "\n",
    "for i,uni in enumerate(uniques):\n",
    "    \n",
    "    reverse_labels[i] = uni \n",
    "    \n",
    "    \n",
    "print(reverse_labels)"
   ]
  },
  {
   "cell_type": "code",
   "execution_count": 1172,
   "metadata": {},
   "outputs": [],
   "source": [
    "labels= {}\n",
    "uniques = df['prognosis'].unique()\n",
    "\n",
    "for i,uni in enumerate(uniques):\n",
    "    \n",
    "    labels[uni] = i \n",
    "    \n",
    "df['prognosis'] = df['prognosis'].map(labels)"
   ]
  },
  {
   "cell_type": "code",
   "execution_count": 1173,
   "metadata": {},
   "outputs": [],
   "source": [
    "X = df.drop(['id','prognosis'],axis = 1)\n",
    "Y = df['prognosis']"
   ]
  },
  {
   "attachments": {},
   "cell_type": "markdown",
   "metadata": {},
   "source": [
    "* 오버샘플링은 잘 작동할까?"
   ]
  },
  {
   "cell_type": "code",
   "execution_count": 1174,
   "metadata": {},
   "outputs": [],
   "source": [
    "x_train_full, x_test,y_train_full, y_test = train_test_split(X,Y,stratify = Y, random_state = 42)"
   ]
  },
  {
   "cell_type": "code",
   "execution_count": 1175,
   "metadata": {},
   "outputs": [],
   "source": [
    "x_train,x_valid,y_train,y_valid = train_test_split(x_train_full,y_train_full,\n",
    "                                                    random_state = 42)\n"
   ]
  },
  {
   "cell_type": "code",
   "execution_count": 1176,
   "metadata": {},
   "outputs": [],
   "source": [
    "sm = SMOTE(k_neighbors= 3, random_state = 77)\n",
    "\n",
    "x_train_resample, y_train_resample = sm.fit_resample(x_train,y_train)"
   ]
  },
  {
   "cell_type": "code",
   "execution_count": 1177,
   "metadata": {},
   "outputs": [
    {
     "name": "stdout",
     "output_type": "stream",
     "text": [
      "Original feature shape : (397, 64)\n",
      "Original target shape : (397,)\n",
      "****************************************\n",
      "After SMOTE feature shape : (495, 64)\n",
      "After SMOTE target shape : (495,)\n"
     ]
    }
   ],
   "source": [
    "print('Original feature shape :', x_train.shape)\n",
    "print('Original target shape :', y_train.shape)\n",
    "\n",
    "print('**'* 20)\n",
    "\n",
    "print('After SMOTE feature shape :', x_train_resample.shape)\n",
    "print('After SMOTE target shape :', y_train_resample.shape)"
   ]
  },
  {
   "cell_type": "code",
   "execution_count": 1178,
   "metadata": {},
   "outputs": [],
   "source": [
    "num_classes = Y.nunique()\n",
    "\n",
    "y_train = pd.DataFrame(tf.one_hot(y_train, num_classes))\n",
    "y_train_resample = pd.DataFrame(tf.one_hot(y_train_resample, num_classes))\n",
    "\n",
    "y_valid = pd.DataFrame(tf.one_hot(y_valid, num_classes))"
   ]
  },
  {
   "cell_type": "code",
   "execution_count": 1179,
   "metadata": {},
   "outputs": [],
   "source": [
    "early_stopping = EarlyStopping(monitor = 'val_loss',\n",
    "                patience = 30)"
   ]
  },
  {
   "cell_type": "code",
   "execution_count": 1180,
   "metadata": {},
   "outputs": [],
   "source": [
    "def create_model(x_shape = (64,),layer = 5,\n",
    "                    node = 32 ,activation_ = 'relu', y_shape = 11,\n",
    "                    l2_input_ = 0,\n",
    "                    input_optimizer = 'adam',\n",
    "                    loss_fn = CategoricalCrossentropy()):\n",
    "    \n",
    "    model = Sequential()\n",
    "    \n",
    "    model.add(Dense(node, input_shape=x_shape, kernel_initializer=GlorotUniform()))\n",
    "    for l in range(layer):\n",
    "        model.add(Dense(node, activation = activation_,\n",
    "                        kernel_regularizer = regularizers.l2(l2_input_)))\n",
    "        \n",
    "        \n",
    "    model.add(Dense(units = y_shape,\n",
    "                                activation = 'softmax'))\n",
    "    \n",
    "    model.compile(optimizer = input_optimizer,\n",
    "                    loss = loss_fn,\n",
    "                    metrics = ['accuracy'])\n",
    "    \n",
    "    return model"
   ]
  },
  {
   "cell_type": "code",
   "execution_count": 1181,
   "metadata": {},
   "outputs": [],
   "source": [
    "before_model = create_model(node = 32,layer = 3, l2_input_ = 0.01)\n",
    "after_model = create_model(node = 32,layer = 3, l2_input_ = 0.01)"
   ]
  },
  {
   "cell_type": "code",
   "execution_count": 1182,
   "metadata": {},
   "outputs": [],
   "source": [
    "before_history = before_model.fit(x_train,y_train,\n",
    "            validation_data = (x_valid,y_valid),\n",
    "            epochs = 1000,\n",
    "            callbacks = early_stopping,\n",
    "            verbose = 0)"
   ]
  },
  {
   "cell_type": "code",
   "execution_count": 1183,
   "metadata": {},
   "outputs": [],
   "source": [
    "after_history = after_model.fit(x_train_resample,y_train_resample,\n",
    "            validation_data = (x_valid,y_valid),\n",
    "            epochs = 1000,\n",
    "            callbacks = early_stopping,\n",
    "            verbose = 0)"
   ]
  },
  {
   "cell_type": "code",
   "execution_count": 1184,
   "metadata": {},
   "outputs": [],
   "source": [
    "before = pd.DataFrame(before_history.history)\n",
    "after = pd.DataFrame(after_history.history)\n",
    "\n",
    "results = [before,after]"
   ]
  },
  {
   "cell_type": "code",
   "execution_count": 1185,
   "metadata": {},
   "outputs": [
    {
     "data": {
      "image/png": "[encoded data removed]",
      "text/plain": [
       "<Figure size 1500x500 with 2 Axes>"
      ]
     },
     "metadata": {},
     "output_type": "display_data"
    }
   ],
   "source": [
    "fig,ax = plt.subplots(nrows = 1, ncols = 2,\n",
    "                        figsize = (15,5))\n",
    "\n",
    "ax = ax.flatten()\n",
    "\n",
    "names = ['Before Oversampling', 'After Oversampling']\n",
    "\n",
    "for i,var in enumerate(results):\n",
    "    \n",
    "    ax[i].grid()\n",
    "    \n",
    "    \n",
    "    ax[i].plot(var['loss'],\n",
    "                c = 'blue',\n",
    "                label = 'train_loss')\n",
    "    \n",
    "    ax[i].plot(var['val_loss'],\n",
    "                c = 'red',\n",
    "                label = 'validaion_loss')\n",
    "    \n",
    "    ax[i].fill_between(range(len(var['loss'])), var['loss'], var['val_loss'], \n",
    "                    where=(var['loss'] <= var['val_loss']), \n",
    "                    interpolate=True, color='dodgerblue', alpha=0.2)\n",
    "\n",
    "    \n",
    "    ax[i].set_ylim([0,10])\n",
    "    \n",
    "    ax[i].set_title(names[i], fontsize = 15)\n",
    "    \n",
    "    ax[i].set_xlabel('epochs')\n",
    "    ax[0].set_ylabel('Loss',fontsize = 15)\n",
    "    \n",
    "    ax[i].legend()"
   ]
  },
  {
   "cell_type": "code",
   "execution_count": 1186,
   "metadata": {},
   "outputs": [
    {
     "data": {
      "image/png": "[encoded data removed]",
      "text/plain": [
       "<Figure size 1500x500 with 2 Axes>"
      ]
     },
     "metadata": {},
     "output_type": "display_data"
    }
   ],
   "source": [
    "fig,ax = plt.subplots(nrows = 1, ncols = 2,\n",
    "                        figsize = (15,5))\n",
    "\n",
    "ax = ax.flatten()\n",
    "\n",
    "for i,var in enumerate(results):\n",
    "    \n",
    "    ax[i].grid()\n",
    "    \n",
    "    \n",
    "    ax[i].plot(var['accuracy'],\n",
    "                c = 'blue',\n",
    "                label = 'train_accuracy')\n",
    "    \n",
    "    ax[i].plot(var['val_accuracy'],\n",
    "                c = 'red',\n",
    "                label = 'validaion_accuracy')\n",
    "    \n",
    "    ax[i].fill_between(range(len(var['accuracy'])), var['accuracy'], var['val_accuracy'], \n",
    "                        where=(var['accuracy'] >= var['val_accuracy']), \n",
    "                        interpolate=True, color='dodgerblue', alpha=0.2)\n",
    "    \n",
    "    \n",
    "    ax[i].set_xlabel('epochs')\n",
    "    ax[0].set_ylabel('Accuracy',fontsize = 15)\n",
    "\n",
    "    ax[i].set_title(names[i])\n",
    "    \n",
    "    ax[i].legend()\n",
    "    "
   ]
  },
  {
   "cell_type": "code",
   "execution_count": 1187,
   "metadata": {},
   "outputs": [
    {
     "name": "stdout",
     "output_type": "stream",
     "text": [
      "6/6 [==============================] - 0s 806us/step\n",
      "6/6 [==============================] - 0s 770us/step\n"
     ]
    }
   ],
   "source": [
    "before_prob = before_model.predict(x_test)\n",
    "\n",
    "after_prob = after_model.predict(x_test)"
   ]
  },
  {
   "cell_type": "code",
   "execution_count": 1188,
   "metadata": {},
   "outputs": [],
   "source": [
    "def mpk(y_test, predicted):\n",
    "    \"\"\"\n",
    "    Calculates the mean precision at k for a given set of predictions.\n",
    "    Args:\n",
    "        y_test (pd.Series): Actual values for the test set\n",
    "        predicted (np.ndarray): Predicted values for the test set\n",
    "    Returns:\n",
    "        mpk_score (float): Mean precision at k score for the test set\n",
    "    \"\"\"\n",
    "    k = 3\n",
    "    mpk_score = 0\n",
    "    for i, y in enumerate(y_test):\n",
    "        top_k_preds = predicted[i].argsort()[-k:][::-1]\n",
    "        mpk_score += np.mean([1 if y in top_k_preds[:j+1] else 0 for j in range(k)])\n",
    "    mpk_score /= len(y_test)\n",
    "    return mpk_score"
   ]
  },
  {
   "cell_type": "code",
   "execution_count": 1189,
   "metadata": {},
   "outputs": [
    {
     "name": "stdout",
     "output_type": "stream",
     "text": [
      "Before Oversampling :  0.43691148775894517\n"
     ]
    }
   ],
   "source": [
    "print('Before Oversampling : ',mpk(y_test,before_prob))"
   ]
  },
  {
   "cell_type": "code",
   "execution_count": 1190,
   "metadata": {},
   "outputs": [
    {
     "name": "stdout",
     "output_type": "stream",
     "text": [
      "After Oversampling : 0.4143126177024482\n"
     ]
    }
   ],
   "source": [
    "print('After Oversampling :',mpk(y_test,after_prob))"
   ]
  },
  {
   "cell_type": "code",
   "execution_count": 1191,
   "metadata": {},
   "outputs": [],
   "source": [
    "before_top3 = []\n",
    "\n",
    "for prob in before_prob:\n",
    "    before_top3.append(\n",
    "        prob.argsort()[-3:][::-1 ]\n",
    "    )\n",
    "    \n",
    "after_top3 = []\n",
    "\n",
    "for prob in after_prob:\n",
    "    after_top3.append(\n",
    "        prob.argsort()[-3:][::-1]\n",
    "    )"
   ]
  },
  {
   "cell_type": "code",
   "execution_count": 1192,
   "metadata": {},
   "outputs": [
    {
     "name": "stdout",
     "output_type": "stream",
     "text": [
      "Before oversampling result\n"
     ]
    },
    {
     "data": {
      "text/plain": [
       "[array([ 0,  4, 10], dtype=int64),\n",
       " array([10,  4,  9], dtype=int64),\n",
       " array([ 3,  8, 10], dtype=int64)]"
      ]
     },
     "metadata": {},
     "output_type": "display_data"
    },
    {
     "name": "stdout",
     "output_type": "stream",
     "text": [
      "****************************************\n",
      "After oversampling result\n"
     ]
    },
    {
     "data": {
      "text/plain": [
       "[array([8, 3, 0], dtype=int64),\n",
       " array([9, 7, 4], dtype=int64),\n",
       " array([ 1,  3, 10], dtype=int64)]"
      ]
     },
     "metadata": {},
     "output_type": "display_data"
    }
   ],
   "source": [
    "print('Before oversampling result')\n",
    "display(before_top3[:3])\n",
    "print('**'*20)\n",
    "print('After oversampling result')\n",
    "display(after_top3[:3])"
   ]
  },
  {
   "cell_type": "code",
   "execution_count": 1193,
   "metadata": {},
   "outputs": [],
   "source": [
    "def reverse(data):\n",
    "    \n",
    "    cols = data.columns\n",
    "    \n",
    "    for col in cols:\n",
    "        \n",
    "        data[col] = data[col].map(reverse_labels)\n",
    "        \n",
    "        # reverse_label : {0: 'Lyme_disease', 1: 'Tungiasis', 2: 'Zika', 3: 'Rift_Valley_fever' ... } ..\n",
    "        \n",
    "    data['predicteds'] = data[0] + ' ' + data[1] + ' ' + data[2]\n",
    "    \n",
    "    data = data.drop([0,1,2],axis = 1)\n",
    "            \n",
    "    return data"
   ]
  },
  {
   "cell_type": "code",
   "execution_count": 1194,
   "metadata": {},
   "outputs": [],
   "source": [
    "before_top3 = pd.DataFrame(before_top3)\n",
    "after_top3 = pd.DataFrame(after_top3)"
   ]
  },
  {
   "cell_type": "code",
   "execution_count": 1195,
   "metadata": {},
   "outputs": [],
   "source": [
    "before_top3 = reverse(before_top3)\n",
    "after_top3 = reverse(after_top3)"
   ]
  },
  {
   "cell_type": "code",
   "execution_count": 1196,
   "metadata": {},
   "outputs": [
    {
     "name": "stdout",
     "output_type": "stream",
     "text": [
      "Before Pversampling Predict\n"
     ]
    },
    {
     "data": {
      "text/html": [
       "<div>\n",
       "<style scoped>\n",
       "    .dataframe tbody tr th:only-of-type {\n",
       "        vertical-align: middle;\n",
       "    }\n",
       "\n",
       "    .dataframe tbody tr th {\n",
       "        vertical-align: top;\n",
       "    }\n",
       "\n",
       "    .dataframe thead th {\n",
       "        text-align: right;\n",
       "    }\n",
       "</style>\n",
       "<table border=\"1\" class=\"dataframe\">\n",
       "  <thead>\n",
       "    <tr style=\"text-align: right;\">\n",
       "      <th></th>\n",
       "      <th>predicteds</th>\n",
       "      <th>Real</th>\n",
       "    </tr>\n",
       "  </thead>\n",
       "  <tbody>\n",
       "    <tr>\n",
       "      <th>0</th>\n",
       "      <td>Lyme_disease West_Nile_fever Japanese_encephal...</td>\n",
       "      <td>Tungiasis</td>\n",
       "    </tr>\n",
       "    <tr>\n",
       "      <th>1</th>\n",
       "      <td>Japanese_encephalitis West_Nile_fever Yellow_F...</td>\n",
       "      <td>Plague</td>\n",
       "    </tr>\n",
       "    <tr>\n",
       "      <th>2</th>\n",
       "      <td>Rift_Valley_fever Dengue Japanese_encephalitis</td>\n",
       "      <td>Rift_Valley_fever</td>\n",
       "    </tr>\n",
       "    <tr>\n",
       "      <th>3</th>\n",
       "      <td>Japanese_encephalitis Chikungunya West_Nile_fever</td>\n",
       "      <td>Japanese_encephalitis</td>\n",
       "    </tr>\n",
       "    <tr>\n",
       "      <th>4</th>\n",
       "      <td>Rift_Valley_fever Dengue Japanese_encephalitis</td>\n",
       "      <td>West_Nile_fever</td>\n",
       "    </tr>\n",
       "    <tr>\n",
       "      <th>5</th>\n",
       "      <td>West_Nile_fever Japanese_encephalitis Yellow_F...</td>\n",
       "      <td>West_Nile_fever</td>\n",
       "    </tr>\n",
       "    <tr>\n",
       "      <th>6</th>\n",
       "      <td>Chikungunya West_Nile_fever Dengue</td>\n",
       "      <td>Yellow_Fever</td>\n",
       "    </tr>\n",
       "    <tr>\n",
       "      <th>7</th>\n",
       "      <td>Zika Yellow_Fever West_Nile_fever</td>\n",
       "      <td>Yellow_Fever</td>\n",
       "    </tr>\n",
       "    <tr>\n",
       "      <th>8</th>\n",
       "      <td>Yellow_Fever Plague West_Nile_fever</td>\n",
       "      <td>Malaria</td>\n",
       "    </tr>\n",
       "    <tr>\n",
       "      <th>9</th>\n",
       "      <td>Lyme_disease West_Nile_fever Malaria</td>\n",
       "      <td>Malaria</td>\n",
       "    </tr>\n",
       "  </tbody>\n",
       "</table>\n",
       "</div>"
      ],
      "text/plain": [
       "                                          predicteds                   Real\n",
       "0  Lyme_disease West_Nile_fever Japanese_encephal...              Tungiasis\n",
       "1  Japanese_encephalitis West_Nile_fever Yellow_F...                 Plague\n",
       "2     Rift_Valley_fever Dengue Japanese_encephalitis      Rift_Valley_fever\n",
       "3  Japanese_encephalitis Chikungunya West_Nile_fever  Japanese_encephalitis\n",
       "4     Rift_Valley_fever Dengue Japanese_encephalitis        West_Nile_fever\n",
       "5  West_Nile_fever Japanese_encephalitis Yellow_F...        West_Nile_fever\n",
       "6                 Chikungunya West_Nile_fever Dengue           Yellow_Fever\n",
       "7                  Zika Yellow_Fever West_Nile_fever           Yellow_Fever\n",
       "8                Yellow_Fever Plague West_Nile_fever                Malaria\n",
       "9               Lyme_disease West_Nile_fever Malaria                Malaria"
      ]
     },
     "metadata": {},
     "output_type": "display_data"
    },
    {
     "name": "stdout",
     "output_type": "stream",
     "text": [
      "\n",
      "\n",
      "\n",
      "After Oversamplig predict\n"
     ]
    },
    {
     "data": {
      "text/html": [
       "<div>\n",
       "<style scoped>\n",
       "    .dataframe tbody tr th:only-of-type {\n",
       "        vertical-align: middle;\n",
       "    }\n",
       "\n",
       "    .dataframe tbody tr th {\n",
       "        vertical-align: top;\n",
       "    }\n",
       "\n",
       "    .dataframe thead th {\n",
       "        text-align: right;\n",
       "    }\n",
       "</style>\n",
       "<table border=\"1\" class=\"dataframe\">\n",
       "  <thead>\n",
       "    <tr style=\"text-align: right;\">\n",
       "      <th></th>\n",
       "      <th>predicteds</th>\n",
       "      <th>Real</th>\n",
       "    </tr>\n",
       "  </thead>\n",
       "  <tbody>\n",
       "    <tr>\n",
       "      <th>0</th>\n",
       "      <td>Dengue Rift_Valley_fever Lyme_disease</td>\n",
       "      <td>Tungiasis</td>\n",
       "    </tr>\n",
       "    <tr>\n",
       "      <th>1</th>\n",
       "      <td>Yellow_Fever Plague West_Nile_fever</td>\n",
       "      <td>Plague</td>\n",
       "    </tr>\n",
       "    <tr>\n",
       "      <th>2</th>\n",
       "      <td>Tungiasis Rift_Valley_fever Japanese_encephalitis</td>\n",
       "      <td>Rift_Valley_fever</td>\n",
       "    </tr>\n",
       "    <tr>\n",
       "      <th>3</th>\n",
       "      <td>Yellow_Fever Plague Malaria</td>\n",
       "      <td>Japanese_encephalitis</td>\n",
       "    </tr>\n",
       "    <tr>\n",
       "      <th>4</th>\n",
       "      <td>Rift_Valley_fever Tungiasis Dengue</td>\n",
       "      <td>West_Nile_fever</td>\n",
       "    </tr>\n",
       "    <tr>\n",
       "      <th>5</th>\n",
       "      <td>West_Nile_fever Yellow_Fever Plague</td>\n",
       "      <td>West_Nile_fever</td>\n",
       "    </tr>\n",
       "    <tr>\n",
       "      <th>6</th>\n",
       "      <td>Chikungunya Japanese_encephalitis Rift_Valley_...</td>\n",
       "      <td>Yellow_Fever</td>\n",
       "    </tr>\n",
       "    <tr>\n",
       "      <th>7</th>\n",
       "      <td>Zika Yellow_Fever Plague</td>\n",
       "      <td>Yellow_Fever</td>\n",
       "    </tr>\n",
       "    <tr>\n",
       "      <th>8</th>\n",
       "      <td>Japanese_encephalitis Yellow_Fever Tungiasis</td>\n",
       "      <td>Malaria</td>\n",
       "    </tr>\n",
       "    <tr>\n",
       "      <th>9</th>\n",
       "      <td>Japanese_encephalitis West_Nile_fever Yellow_F...</td>\n",
       "      <td>Malaria</td>\n",
       "    </tr>\n",
       "  </tbody>\n",
       "</table>\n",
       "</div>"
      ],
      "text/plain": [
       "                                          predicteds                   Real\n",
       "0              Dengue Rift_Valley_fever Lyme_disease              Tungiasis\n",
       "1                Yellow_Fever Plague West_Nile_fever                 Plague\n",
       "2  Tungiasis Rift_Valley_fever Japanese_encephalitis      Rift_Valley_fever\n",
       "3                        Yellow_Fever Plague Malaria  Japanese_encephalitis\n",
       "4                 Rift_Valley_fever Tungiasis Dengue        West_Nile_fever\n",
       "5                West_Nile_fever Yellow_Fever Plague        West_Nile_fever\n",
       "6  Chikungunya Japanese_encephalitis Rift_Valley_...           Yellow_Fever\n",
       "7                           Zika Yellow_Fever Plague           Yellow_Fever\n",
       "8       Japanese_encephalitis Yellow_Fever Tungiasis                Malaria\n",
       "9  Japanese_encephalitis West_Nile_fever Yellow_F...                Malaria"
      ]
     },
     "metadata": {},
     "output_type": "display_data"
    }
   ],
   "source": [
    "before_top3['Real'] = y_test.map(reverse_labels).reset_index(drop = True)\n",
    "after_top3['Real'] = y_test.map(reverse_labels).reset_index(drop = True)\n",
    "\n",
    "\n",
    "print('Before Pversampling Predict')\n",
    "display(before_top3.head(10))\n",
    "print('\\n\\n')\n",
    "print('After Oversamplig predict')\n",
    "display(after_top3.head(10))"
   ]
  },
  {
   "attachments": {},
   "cell_type": "markdown",
   "metadata": {},
   "source": [
    "# 제출"
   ]
  },
  {
   "cell_type": "code",
   "execution_count": 1197,
   "metadata": {},
   "outputs": [
    {
     "name": "stdout",
     "output_type": "stream",
     "text": [
      "10/10 [==============================] - 0s 750us/step\n"
     ]
    }
   ],
   "source": [
    "probs = after_model.predict(test.drop('id',axis = 1))"
   ]
  },
  {
   "cell_type": "code",
   "execution_count": 1198,
   "metadata": {},
   "outputs": [
    {
     "data": {
      "text/html": [
       "<div>\n",
       "<style scoped>\n",
       "    .dataframe tbody tr th:only-of-type {\n",
       "        vertical-align: middle;\n",
       "    }\n",
       "\n",
       "    .dataframe tbody tr th {\n",
       "        vertical-align: top;\n",
       "    }\n",
       "\n",
       "    .dataframe thead th {\n",
       "        text-align: right;\n",
       "    }\n",
       "</style>\n",
       "<table border=\"1\" class=\"dataframe\">\n",
       "  <thead>\n",
       "    <tr style=\"text-align: right;\">\n",
       "      <th></th>\n",
       "      <th>id</th>\n",
       "      <th>sudden_fever</th>\n",
       "      <th>headache</th>\n",
       "      <th>mouth_bleed</th>\n",
       "      <th>nose_bleed</th>\n",
       "      <th>muscle_pain</th>\n",
       "      <th>joint_pain</th>\n",
       "      <th>vomiting</th>\n",
       "      <th>rash</th>\n",
       "      <th>diarrhea</th>\n",
       "      <th>...</th>\n",
       "      <th>lymph_swells</th>\n",
       "      <th>breathing_restriction</th>\n",
       "      <th>toe_inflammation</th>\n",
       "      <th>finger_inflammation</th>\n",
       "      <th>lips_irritation</th>\n",
       "      <th>itchiness</th>\n",
       "      <th>ulcers</th>\n",
       "      <th>toenail_loss</th>\n",
       "      <th>speech_problem</th>\n",
       "      <th>bullseye_rash</th>\n",
       "    </tr>\n",
       "  </thead>\n",
       "  <tbody>\n",
       "    <tr>\n",
       "      <th>0</th>\n",
       "      <td>707</td>\n",
       "      <td>0.0</td>\n",
       "      <td>0.0</td>\n",
       "      <td>0.0</td>\n",
       "      <td>0.0</td>\n",
       "      <td>0.0</td>\n",
       "      <td>0.0</td>\n",
       "      <td>0.0</td>\n",
       "      <td>0.0</td>\n",
       "      <td>0.0</td>\n",
       "      <td>...</td>\n",
       "      <td>0.0</td>\n",
       "      <td>0.0</td>\n",
       "      <td>0.0</td>\n",
       "      <td>0.0</td>\n",
       "      <td>0.0</td>\n",
       "      <td>0.0</td>\n",
       "      <td>0.0</td>\n",
       "      <td>0.0</td>\n",
       "      <td>0.0</td>\n",
       "      <td>0.0</td>\n",
       "    </tr>\n",
       "    <tr>\n",
       "      <th>1</th>\n",
       "      <td>708</td>\n",
       "      <td>1.0</td>\n",
       "      <td>1.0</td>\n",
       "      <td>0.0</td>\n",
       "      <td>1.0</td>\n",
       "      <td>0.0</td>\n",
       "      <td>1.0</td>\n",
       "      <td>1.0</td>\n",
       "      <td>1.0</td>\n",
       "      <td>1.0</td>\n",
       "      <td>...</td>\n",
       "      <td>0.0</td>\n",
       "      <td>0.0</td>\n",
       "      <td>0.0</td>\n",
       "      <td>0.0</td>\n",
       "      <td>0.0</td>\n",
       "      <td>0.0</td>\n",
       "      <td>0.0</td>\n",
       "      <td>0.0</td>\n",
       "      <td>0.0</td>\n",
       "      <td>0.0</td>\n",
       "    </tr>\n",
       "    <tr>\n",
       "      <th>2</th>\n",
       "      <td>709</td>\n",
       "      <td>1.0</td>\n",
       "      <td>1.0</td>\n",
       "      <td>0.0</td>\n",
       "      <td>1.0</td>\n",
       "      <td>1.0</td>\n",
       "      <td>1.0</td>\n",
       "      <td>1.0</td>\n",
       "      <td>0.0</td>\n",
       "      <td>1.0</td>\n",
       "      <td>...</td>\n",
       "      <td>0.0</td>\n",
       "      <td>0.0</td>\n",
       "      <td>0.0</td>\n",
       "      <td>0.0</td>\n",
       "      <td>0.0</td>\n",
       "      <td>1.0</td>\n",
       "      <td>0.0</td>\n",
       "      <td>0.0</td>\n",
       "      <td>0.0</td>\n",
       "      <td>0.0</td>\n",
       "    </tr>\n",
       "    <tr>\n",
       "      <th>3</th>\n",
       "      <td>710</td>\n",
       "      <td>0.0</td>\n",
       "      <td>1.0</td>\n",
       "      <td>0.0</td>\n",
       "      <td>0.0</td>\n",
       "      <td>0.0</td>\n",
       "      <td>1.0</td>\n",
       "      <td>1.0</td>\n",
       "      <td>1.0</td>\n",
       "      <td>0.0</td>\n",
       "      <td>...</td>\n",
       "      <td>0.0</td>\n",
       "      <td>0.0</td>\n",
       "      <td>0.0</td>\n",
       "      <td>0.0</td>\n",
       "      <td>0.0</td>\n",
       "      <td>0.0</td>\n",
       "      <td>0.0</td>\n",
       "      <td>0.0</td>\n",
       "      <td>0.0</td>\n",
       "      <td>0.0</td>\n",
       "    </tr>\n",
       "    <tr>\n",
       "      <th>4</th>\n",
       "      <td>711</td>\n",
       "      <td>0.0</td>\n",
       "      <td>0.0</td>\n",
       "      <td>1.0</td>\n",
       "      <td>0.0</td>\n",
       "      <td>1.0</td>\n",
       "      <td>1.0</td>\n",
       "      <td>0.0</td>\n",
       "      <td>0.0</td>\n",
       "      <td>1.0</td>\n",
       "      <td>...</td>\n",
       "      <td>0.0</td>\n",
       "      <td>0.0</td>\n",
       "      <td>0.0</td>\n",
       "      <td>0.0</td>\n",
       "      <td>0.0</td>\n",
       "      <td>0.0</td>\n",
       "      <td>0.0</td>\n",
       "      <td>0.0</td>\n",
       "      <td>0.0</td>\n",
       "      <td>0.0</td>\n",
       "    </tr>\n",
       "    <tr>\n",
       "      <th>...</th>\n",
       "      <td>...</td>\n",
       "      <td>...</td>\n",
       "      <td>...</td>\n",
       "      <td>...</td>\n",
       "      <td>...</td>\n",
       "      <td>...</td>\n",
       "      <td>...</td>\n",
       "      <td>...</td>\n",
       "      <td>...</td>\n",
       "      <td>...</td>\n",
       "      <td>...</td>\n",
       "      <td>...</td>\n",
       "      <td>...</td>\n",
       "      <td>...</td>\n",
       "      <td>...</td>\n",
       "      <td>...</td>\n",
       "      <td>...</td>\n",
       "      <td>...</td>\n",
       "      <td>...</td>\n",
       "      <td>...</td>\n",
       "      <td>...</td>\n",
       "    </tr>\n",
       "    <tr>\n",
       "      <th>298</th>\n",
       "      <td>1005</td>\n",
       "      <td>0.0</td>\n",
       "      <td>1.0</td>\n",
       "      <td>0.0</td>\n",
       "      <td>0.0</td>\n",
       "      <td>0.0</td>\n",
       "      <td>0.0</td>\n",
       "      <td>0.0</td>\n",
       "      <td>0.0</td>\n",
       "      <td>1.0</td>\n",
       "      <td>...</td>\n",
       "      <td>0.0</td>\n",
       "      <td>0.0</td>\n",
       "      <td>0.0</td>\n",
       "      <td>0.0</td>\n",
       "      <td>0.0</td>\n",
       "      <td>0.0</td>\n",
       "      <td>0.0</td>\n",
       "      <td>0.0</td>\n",
       "      <td>0.0</td>\n",
       "      <td>0.0</td>\n",
       "    </tr>\n",
       "    <tr>\n",
       "      <th>299</th>\n",
       "      <td>1006</td>\n",
       "      <td>1.0</td>\n",
       "      <td>0.0</td>\n",
       "      <td>1.0</td>\n",
       "      <td>0.0</td>\n",
       "      <td>1.0</td>\n",
       "      <td>1.0</td>\n",
       "      <td>0.0</td>\n",
       "      <td>1.0</td>\n",
       "      <td>1.0</td>\n",
       "      <td>...</td>\n",
       "      <td>0.0</td>\n",
       "      <td>0.0</td>\n",
       "      <td>0.0</td>\n",
       "      <td>0.0</td>\n",
       "      <td>0.0</td>\n",
       "      <td>0.0</td>\n",
       "      <td>0.0</td>\n",
       "      <td>0.0</td>\n",
       "      <td>0.0</td>\n",
       "      <td>0.0</td>\n",
       "    </tr>\n",
       "    <tr>\n",
       "      <th>300</th>\n",
       "      <td>1007</td>\n",
       "      <td>1.0</td>\n",
       "      <td>0.0</td>\n",
       "      <td>0.0</td>\n",
       "      <td>1.0</td>\n",
       "      <td>1.0</td>\n",
       "      <td>0.0</td>\n",
       "      <td>1.0</td>\n",
       "      <td>1.0</td>\n",
       "      <td>1.0</td>\n",
       "      <td>...</td>\n",
       "      <td>1.0</td>\n",
       "      <td>1.0</td>\n",
       "      <td>1.0</td>\n",
       "      <td>1.0</td>\n",
       "      <td>1.0</td>\n",
       "      <td>0.0</td>\n",
       "      <td>0.0</td>\n",
       "      <td>0.0</td>\n",
       "      <td>0.0</td>\n",
       "      <td>0.0</td>\n",
       "    </tr>\n",
       "    <tr>\n",
       "      <th>301</th>\n",
       "      <td>1008</td>\n",
       "      <td>1.0</td>\n",
       "      <td>0.0</td>\n",
       "      <td>1.0</td>\n",
       "      <td>1.0</td>\n",
       "      <td>1.0</td>\n",
       "      <td>0.0</td>\n",
       "      <td>1.0</td>\n",
       "      <td>0.0</td>\n",
       "      <td>0.0</td>\n",
       "      <td>...</td>\n",
       "      <td>0.0</td>\n",
       "      <td>0.0</td>\n",
       "      <td>0.0</td>\n",
       "      <td>1.0</td>\n",
       "      <td>0.0</td>\n",
       "      <td>0.0</td>\n",
       "      <td>0.0</td>\n",
       "      <td>0.0</td>\n",
       "      <td>0.0</td>\n",
       "      <td>0.0</td>\n",
       "    </tr>\n",
       "    <tr>\n",
       "      <th>302</th>\n",
       "      <td>1009</td>\n",
       "      <td>1.0</td>\n",
       "      <td>0.0</td>\n",
       "      <td>0.0</td>\n",
       "      <td>0.0</td>\n",
       "      <td>0.0</td>\n",
       "      <td>0.0</td>\n",
       "      <td>1.0</td>\n",
       "      <td>0.0</td>\n",
       "      <td>1.0</td>\n",
       "      <td>...</td>\n",
       "      <td>0.0</td>\n",
       "      <td>0.0</td>\n",
       "      <td>0.0</td>\n",
       "      <td>0.0</td>\n",
       "      <td>0.0</td>\n",
       "      <td>0.0</td>\n",
       "      <td>0.0</td>\n",
       "      <td>0.0</td>\n",
       "      <td>0.0</td>\n",
       "      <td>0.0</td>\n",
       "    </tr>\n",
       "  </tbody>\n",
       "</table>\n",
       "<p>303 rows × 65 columns</p>\n",
       "</div>"
      ],
      "text/plain": [
       "       id  sudden_fever  headache  mouth_bleed  nose_bleed  muscle_pain  \\\n",
       "0     707           0.0       0.0          0.0         0.0          0.0   \n",
       "1     708           1.0       1.0          0.0         1.0          0.0   \n",
       "2     709           1.0       1.0          0.0         1.0          1.0   \n",
       "3     710           0.0       1.0          0.0         0.0          0.0   \n",
       "4     711           0.0       0.0          1.0         0.0          1.0   \n",
       "..    ...           ...       ...          ...         ...          ...   \n",
       "298  1005           0.0       1.0          0.0         0.0          0.0   \n",
       "299  1006           1.0       0.0          1.0         0.0          1.0   \n",
       "300  1007           1.0       0.0          0.0         1.0          1.0   \n",
       "301  1008           1.0       0.0          1.0         1.0          1.0   \n",
       "302  1009           1.0       0.0          0.0         0.0          0.0   \n",
       "\n",
       "     joint_pain  vomiting  rash  diarrhea  ...  lymph_swells  \\\n",
       "0           0.0       0.0   0.0       0.0  ...           0.0   \n",
       "1           1.0       1.0   1.0       1.0  ...           0.0   \n",
       "2           1.0       1.0   0.0       1.0  ...           0.0   \n",
       "3           1.0       1.0   1.0       0.0  ...           0.0   \n",
       "4           1.0       0.0   0.0       1.0  ...           0.0   \n",
       "..          ...       ...   ...       ...  ...           ...   \n",
       "298         0.0       0.0   0.0       1.0  ...           0.0   \n",
       "299         1.0       0.0   1.0       1.0  ...           0.0   \n",
       "300         0.0       1.0   1.0       1.0  ...           1.0   \n",
       "301         0.0       1.0   0.0       0.0  ...           0.0   \n",
       "302         0.0       1.0   0.0       1.0  ...           0.0   \n",
       "\n",
       "     breathing_restriction  toe_inflammation  finger_inflammation  \\\n",
       "0                      0.0               0.0                  0.0   \n",
       "1                      0.0               0.0                  0.0   \n",
       "2                      0.0               0.0                  0.0   \n",
       "3                      0.0               0.0                  0.0   \n",
       "4                      0.0               0.0                  0.0   \n",
       "..                     ...               ...                  ...   \n",
       "298                    0.0               0.0                  0.0   \n",
       "299                    0.0               0.0                  0.0   \n",
       "300                    1.0               1.0                  1.0   \n",
       "301                    0.0               0.0                  1.0   \n",
       "302                    0.0               0.0                  0.0   \n",
       "\n",
       "     lips_irritation  itchiness  ulcers  toenail_loss  speech_problem  \\\n",
       "0                0.0        0.0     0.0           0.0             0.0   \n",
       "1                0.0        0.0     0.0           0.0             0.0   \n",
       "2                0.0        1.0     0.0           0.0             0.0   \n",
       "3                0.0        0.0     0.0           0.0             0.0   \n",
       "4                0.0        0.0     0.0           0.0             0.0   \n",
       "..               ...        ...     ...           ...             ...   \n",
       "298              0.0        0.0     0.0           0.0             0.0   \n",
       "299              0.0        0.0     0.0           0.0             0.0   \n",
       "300              1.0        0.0     0.0           0.0             0.0   \n",
       "301              0.0        0.0     0.0           0.0             0.0   \n",
       "302              0.0        0.0     0.0           0.0             0.0   \n",
       "\n",
       "     bullseye_rash  \n",
       "0              0.0  \n",
       "1              0.0  \n",
       "2              0.0  \n",
       "3              0.0  \n",
       "4              0.0  \n",
       "..             ...  \n",
       "298            0.0  \n",
       "299            0.0  \n",
       "300            0.0  \n",
       "301            0.0  \n",
       "302            0.0  \n",
       "\n",
       "[303 rows x 65 columns]"
      ]
     },
     "execution_count": 1198,
     "metadata": {},
     "output_type": "execute_result"
    }
   ],
   "source": [
    "test"
   ]
  },
  {
   "cell_type": "code",
   "execution_count": 1199,
   "metadata": {},
   "outputs": [
    {
     "name": "stdout",
     "output_type": "stream",
     "text": [
      "10/10 [==============================] - 0s 632us/step\n"
     ]
    }
   ],
   "source": [
    "probs  = result_model.predict(test.drop('id',axis = 1))\n",
    "\n",
    "result = []\n",
    "\n",
    "for prob in probs:\n",
    "    \n",
    "    result.append(prob.argsort()[-3:][::-1])"
   ]
  },
  {
   "cell_type": "code",
   "execution_count": 1200,
   "metadata": {},
   "outputs": [
    {
     "data": {
      "text/html": [
       "<div>\n",
       "<style scoped>\n",
       "    .dataframe tbody tr th:only-of-type {\n",
       "        vertical-align: middle;\n",
       "    }\n",
       "\n",
       "    .dataframe tbody tr th {\n",
       "        vertical-align: top;\n",
       "    }\n",
       "\n",
       "    .dataframe thead th {\n",
       "        text-align: right;\n",
       "    }\n",
       "</style>\n",
       "<table border=\"1\" class=\"dataframe\">\n",
       "  <thead>\n",
       "    <tr style=\"text-align: right;\">\n",
       "      <th></th>\n",
       "      <th>id</th>\n",
       "      <th>prognosis</th>\n",
       "    </tr>\n",
       "  </thead>\n",
       "  <tbody>\n",
       "    <tr>\n",
       "      <th>0</th>\n",
       "      <td>707</td>\n",
       "      <td>Dengue Zika Japanese_encephalitis</td>\n",
       "    </tr>\n",
       "    <tr>\n",
       "      <th>1</th>\n",
       "      <td>708</td>\n",
       "      <td>Dengue Zika Japanese_encephalitis</td>\n",
       "    </tr>\n",
       "    <tr>\n",
       "      <th>2</th>\n",
       "      <td>709</td>\n",
       "      <td>Dengue Zika Japanese_encephalitis</td>\n",
       "    </tr>\n",
       "    <tr>\n",
       "      <th>3</th>\n",
       "      <td>710</td>\n",
       "      <td>Dengue Zika Japanese_encephalitis</td>\n",
       "    </tr>\n",
       "    <tr>\n",
       "      <th>4</th>\n",
       "      <td>711</td>\n",
       "      <td>Dengue Zika Japanese_encephalitis</td>\n",
       "    </tr>\n",
       "    <tr>\n",
       "      <th>...</th>\n",
       "      <td>...</td>\n",
       "      <td>...</td>\n",
       "    </tr>\n",
       "    <tr>\n",
       "      <th>298</th>\n",
       "      <td>1005</td>\n",
       "      <td>Dengue Zika Japanese_encephalitis</td>\n",
       "    </tr>\n",
       "    <tr>\n",
       "      <th>299</th>\n",
       "      <td>1006</td>\n",
       "      <td>Dengue Zika Japanese_encephalitis</td>\n",
       "    </tr>\n",
       "    <tr>\n",
       "      <th>300</th>\n",
       "      <td>1007</td>\n",
       "      <td>Dengue Zika Japanese_encephalitis</td>\n",
       "    </tr>\n",
       "    <tr>\n",
       "      <th>301</th>\n",
       "      <td>1008</td>\n",
       "      <td>Dengue Zika Japanese_encephalitis</td>\n",
       "    </tr>\n",
       "    <tr>\n",
       "      <th>302</th>\n",
       "      <td>1009</td>\n",
       "      <td>Dengue Zika Japanese_encephalitis</td>\n",
       "    </tr>\n",
       "  </tbody>\n",
       "</table>\n",
       "<p>303 rows × 2 columns</p>\n",
       "</div>"
      ],
      "text/plain": [
       "       id                          prognosis\n",
       "0     707  Dengue Zika Japanese_encephalitis\n",
       "1     708  Dengue Zika Japanese_encephalitis\n",
       "2     709  Dengue Zika Japanese_encephalitis\n",
       "3     710  Dengue Zika Japanese_encephalitis\n",
       "4     711  Dengue Zika Japanese_encephalitis\n",
       "..    ...                                ...\n",
       "298  1005  Dengue Zika Japanese_encephalitis\n",
       "299  1006  Dengue Zika Japanese_encephalitis\n",
       "300  1007  Dengue Zika Japanese_encephalitis\n",
       "301  1008  Dengue Zika Japanese_encephalitis\n",
       "302  1009  Dengue Zika Japanese_encephalitis\n",
       "\n",
       "[303 rows x 2 columns]"
      ]
     },
     "execution_count": 1200,
     "metadata": {},
     "output_type": "execute_result"
    }
   ],
   "source": [
    "sub = pd.read_csv('C:/Users/whileduck/Desktop/캐글/sample_submission.csv')\n",
    "sub"
   ]
  },
  {
   "cell_type": "code",
   "execution_count": 1201,
   "metadata": {},
   "outputs": [],
   "source": [
    "sub['prognosis'] = reverse(pd.DataFrame(result))\n",
    "\n",
    "sub.to_csv('oversampling.csv',\n",
    "            index = False)"
   ]
  },
  {
   "cell_type": "code",
   "execution_count": 1202,
   "metadata": {},
   "outputs": [
    {
     "data": {
      "text/html": [
       "<div>\n",
       "<style scoped>\n",
       "    .dataframe tbody tr th:only-of-type {\n",
       "        vertical-align: middle;\n",
       "    }\n",
       "\n",
       "    .dataframe tbody tr th {\n",
       "        vertical-align: top;\n",
       "    }\n",
       "\n",
       "    .dataframe thead th {\n",
       "        text-align: right;\n",
       "    }\n",
       "</style>\n",
       "<table border=\"1\" class=\"dataframe\">\n",
       "  <thead>\n",
       "    <tr style=\"text-align: right;\">\n",
       "      <th></th>\n",
       "      <th>id</th>\n",
       "      <th>prognosis</th>\n",
       "    </tr>\n",
       "  </thead>\n",
       "  <tbody>\n",
       "    <tr>\n",
       "      <th>0</th>\n",
       "      <td>707</td>\n",
       "      <td>Tungiasis Rift_Valley_fever Japanese_encephalitis</td>\n",
       "    </tr>\n",
       "    <tr>\n",
       "      <th>1</th>\n",
       "      <td>708</td>\n",
       "      <td>Dengue Malaria Chikungunya</td>\n",
       "    </tr>\n",
       "    <tr>\n",
       "      <th>2</th>\n",
       "      <td>709</td>\n",
       "      <td>West_Nile_fever Japanese_encephalitis Rift_Val...</td>\n",
       "    </tr>\n",
       "    <tr>\n",
       "      <th>3</th>\n",
       "      <td>710</td>\n",
       "      <td>Yellow_Fever Zika Japanese_encephalitis</td>\n",
       "    </tr>\n",
       "    <tr>\n",
       "      <th>4</th>\n",
       "      <td>711</td>\n",
       "      <td>Lyme_disease West_Nile_fever Malaria</td>\n",
       "    </tr>\n",
       "    <tr>\n",
       "      <th>...</th>\n",
       "      <td>...</td>\n",
       "      <td>...</td>\n",
       "    </tr>\n",
       "    <tr>\n",
       "      <th>298</th>\n",
       "      <td>1005</td>\n",
       "      <td>Yellow_Fever Japanese_encephalitis Zika</td>\n",
       "    </tr>\n",
       "    <tr>\n",
       "      <th>299</th>\n",
       "      <td>1006</td>\n",
       "      <td>Malaria Lyme_disease Plague</td>\n",
       "    </tr>\n",
       "    <tr>\n",
       "      <th>300</th>\n",
       "      <td>1007</td>\n",
       "      <td>Lyme_disease West_Nile_fever Malaria</td>\n",
       "    </tr>\n",
       "    <tr>\n",
       "      <th>301</th>\n",
       "      <td>1008</td>\n",
       "      <td>Japanese_encephalitis Rift_Valley_fever West_N...</td>\n",
       "    </tr>\n",
       "    <tr>\n",
       "      <th>302</th>\n",
       "      <td>1009</td>\n",
       "      <td>Plague Japanese_encephalitis Zika</td>\n",
       "    </tr>\n",
       "  </tbody>\n",
       "</table>\n",
       "<p>303 rows × 2 columns</p>\n",
       "</div>"
      ],
      "text/plain": [
       "       id                                          prognosis\n",
       "0     707  Tungiasis Rift_Valley_fever Japanese_encephalitis\n",
       "1     708                         Dengue Malaria Chikungunya\n",
       "2     709  West_Nile_fever Japanese_encephalitis Rift_Val...\n",
       "3     710            Yellow_Fever Zika Japanese_encephalitis\n",
       "4     711               Lyme_disease West_Nile_fever Malaria\n",
       "..    ...                                                ...\n",
       "298  1005            Yellow_Fever Japanese_encephalitis Zika\n",
       "299  1006                        Malaria Lyme_disease Plague\n",
       "300  1007               Lyme_disease West_Nile_fever Malaria\n",
       "301  1008  Japanese_encephalitis Rift_Valley_fever West_N...\n",
       "302  1009                  Plague Japanese_encephalitis Zika\n",
       "\n",
       "[303 rows x 2 columns]"
      ]
     },
     "execution_count": 1202,
     "metadata": {},
     "output_type": "execute_result"
    }
   ],
   "source": [
    "sub"
   ]
  }
 ],
 "metadata": {
  "kernelspec": {
   "display_name": "base",
   "language": "python",
   "name": "python3"
  },
  "language_info": {
   "codemirror_mode": {
    "name": "ipython",
    "version": 3
   },
   "file_extension": ".py",
   "mimetype": "text/x-python",
   "name": "python",
   "nbconvert_exporter": "python",
   "pygments_lexer": "ipython3",
   "version": "3.9.13"
  },
  "orig_nbformat": 4
 },
 "nbformat": 4,
 "nbformat_minor": 2
}
